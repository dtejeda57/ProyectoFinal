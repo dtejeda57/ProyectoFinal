{
 "cells": [
  {
   "cell_type": "code",
   "execution_count": 1,
   "metadata": {},
   "outputs": [],
   "source": [
    "import pandas as pd\n",
    "import numpy as np\n",
    "from faker import Faker\n",
    "import random\n",
    "import datetime\n",
    "import boto3\n",
    "import psycopg2\n",
    "import configparser"
   ]
  },
  {
   "attachments": {},
   "cell_type": "markdown",
   "metadata": {},
   "source": [
    "#### Iniciación de Variables"
   ]
  },
  {
   "cell_type": "code",
   "execution_count": 2,
   "metadata": {},
   "outputs": [],
   "source": [
    "rdsIdentifier = 'proyectofinal' #nombre de la instancia"
   ]
  },
  {
   "attachments": {},
   "cell_type": "markdown",
   "metadata": {},
   "source": [
    "#### Cargamos archivo de configuraciones"
   ]
  },
  {
   "cell_type": "code",
   "execution_count": 3,
   "metadata": {},
   "outputs": [
    {
     "data": {
      "text/plain": [
       "['escecPF.cfg']"
      ]
     },
     "execution_count": 3,
     "metadata": {},
     "output_type": "execute_result"
    }
   ],
   "source": [
    "config = configparser.ConfigParser()\n",
    "config.read('escecPF.cfg')"
   ]
  },
  {
   "attachments": {},
   "cell_type": "markdown",
   "metadata": {},
   "source": [
    "### Creamos Instancia de RDS "
   ]
  },
  {
   "cell_type": "code",
   "execution_count": 4,
   "metadata": {},
   "outputs": [],
   "source": [
    "aws_conn = boto3.client('rds', aws_access_key_id=config.get('IAM', 'ACCESS_KEY'),\n",
    "                    aws_secret_access_key=config.get('IAM', 'SECRET_ACCESS_KEY'),\n",
    "                    region_name='us-east-1')"
   ]
  },
  {
   "attachments": {},
   "cell_type": "markdown",
   "metadata": {},
   "source": [
    "#### Verificamos Instancias de RDS disponibles"
   ]
  },
  {
   "cell_type": "code",
   "execution_count": 5,
   "metadata": {},
   "outputs": [
    {
     "name": "stdout",
     "output_type": "stream",
     "text": [
      "DBInstanceIds ['dw-db', 'proyectofinal']\n"
     ]
    }
   ],
   "source": [
    "rdsInstanceIds = []\n",
    "\n",
    "response = aws_conn.describe_db_instances()\n",
    "for resp in response['DBInstances']:\n",
    "    rdsInstanceIds.append(resp['DBInstanceIdentifier'])\n",
    "    db_instance_status = resp['DBInstanceStatus']\n",
    "\n",
    "print(f\"DBInstanceIds {rdsInstanceIds}\")"
   ]
  },
  {
   "attachments": {},
   "cell_type": "markdown",
   "metadata": {},
   "source": [
    "#### Creación de Servicio RDS"
   ]
  },
  {
   "cell_type": "code",
   "execution_count": 6,
   "metadata": {},
   "outputs": [
    {
     "name": "stdout",
     "output_type": "stream",
     "text": [
      "La Instancia de Base de Datos ya Existe.\n"
     ]
    }
   ],
   "source": [
    "try:\n",
    "    response = aws_conn.create_db_instance(\n",
    "            AllocatedStorage=10,\n",
    "            DBName=config.get('RDS', 'DB_NAME'),\n",
    "            DBInstanceIdentifier=rdsIdentifier,\n",
    "            DBInstanceClass=\"db.t3.micro\",\n",
    "            Engine=\"postgres\",\n",
    "            MasterUsername=config.get('RDS', 'DB_USER'),\n",
    "            MasterUserPassword=config.get('RDS', 'DB_PASSWORD'),\n",
    "            Port=int(config.get('RDS', 'DB_PORT')),\n",
    "            VpcSecurityGroupIds=[config.get('VPC', 'SECURITY_GROUP')],\n",
    "            PubliclyAccessible=True\n",
    "        )\n",
    "    print(response)\n",
    "except aws_conn.exceptions.DBInstanceAlreadyExistsFault as ex:\n",
    "    print(\"La Instancia de Base de Datos ya Existe.\")"
   ]
  },
  {
   "attachments": {},
   "cell_type": "markdown",
   "metadata": {},
   "source": [
    "##### Recordemos Esperar unos minutos para consultar la informaicón de la instancia."
   ]
  },
  {
   "attachments": {},
   "cell_type": "markdown",
   "metadata": {},
   "source": [
    "##### Obtenemos URL del Host"
   ]
  },
  {
   "cell_type": "code",
   "execution_count": 7,
   "metadata": {},
   "outputs": [
    {
     "name": "stdout",
     "output_type": "stream",
     "text": [
      "proyectofinal.c9wvrkwvngbi.us-east-1.rds.amazonaws.com\n"
     ]
    }
   ],
   "source": [
    "try:\n",
    "     instances = aws_conn.describe_db_instances(DBInstanceIdentifier=rdsIdentifier)\n",
    "     RDS_HOST = instances.get('DBInstances')[0].get('Endpoint').get('Address')\n",
    "     print(RDS_HOST)\n",
    "except Exception as ex:\n",
    "     print(\"La instancia de base de datos no existe o aun no se ha terminado de crear.\")\n",
    "     print(ex)"
   ]
  },
  {
   "attachments": {},
   "cell_type": "markdown",
   "metadata": {},
   "source": [
    "##### Conexión a Base de Datos desde Python"
   ]
  },
  {
   "cell_type": "code",
   "execution_count": 8,
   "metadata": {},
   "outputs": [
    {
     "name": "stdout",
     "output_type": "stream",
     "text": [
      "Base de Datos Creada Exitosamente\n"
     ]
    }
   ],
   "source": [
    "import sql_queriesPF\n",
    "\n",
    "try:\n",
    "    db_conn = psycopg2.connect(\n",
    "        database=config.get('RDS', 'DB_NAME'), \n",
    "        user=config.get('RDS', 'DB_USER'),\n",
    "        password=config.get('RDS', 'DB_PASSWORD'), \n",
    "        host=RDS_HOST,\n",
    "        port=config.get('RDS', 'DB_PORT')\n",
    "    )\n",
    "\n",
    "    cursor = db_conn.cursor()\n",
    "    cursor.execute(sql_queriesPF.DDL_QUERY)\n",
    "    db_conn.commit()\n",
    "    print(\"Base de Datos Creada Exitosamente\")\n",
    "except Exception as ex:\n",
    "    print(\"ERROR: Error al crear la base de datos.\")\n",
    "    print(ex)"
   ]
  }
 ],
 "metadata": {
  "kernelspec": {
   "display_name": "CienciadeDatosenPython",
   "language": "python",
   "name": "python3"
  },
  "language_info": {
   "codemirror_mode": {
    "name": "ipython",
    "version": 3
   },
   "file_extension": ".py",
   "mimetype": "text/x-python",
   "name": "python",
   "nbconvert_exporter": "python",
   "pygments_lexer": "ipython3",
   "version": "3.8.16"
  },
  "orig_nbformat": 4,
  "vscode": {
   "interpreter": {
    "hash": "609eea9b32de7867e1c465dafe358cf512fa7523eab3927b27790c4221c51ff1"
   }
  }
 },
 "nbformat": 4,
 "nbformat_minor": 2
}
